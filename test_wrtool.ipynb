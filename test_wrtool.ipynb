{
 "cells": [
  {
   "cell_type": "code",
   "execution_count": 3,
   "metadata": {},
   "outputs": [
    {
     "name": "stdout",
     "output_type": "stream",
     "text": [
      "libgfortran.so.3: cannot open shared object file: No such file or directory\n",
      "No DISPLAY variable set. Switching to agg backend\n"
     ]
    }
   ],
   "source": [
    "import numpy as np\n",
    "from matplotlib import pyplot as plt\n",
    "import glob\n",
    "import climtools_lib as ctl\n",
    "import xarray as xr\n",
    "import climdiags as cd"
   ]
  },
  {
   "cell_type": "code",
   "execution_count": 2,
   "metadata": {},
   "outputs": [],
   "source": [
    "cd.plot_regimes(resu['lat'], resu['lon'], resu['cluspattern'])cart_res = '/data-hobbes/fabiano/WR_CMIP6/ERA_ref_r25_v4/'\n",
    "\n",
    "erafi = '/data-hobbes/fabiano/OBS/ERA/ERA40+Int_daily_1957-2018_zg500_remap25_meters.nc'"
   ]
  },
  {
   "cell_type": "code",
   "execution_count": 1,
   "metadata": {},
   "outputs": [
    {
     "ename": "NameError",
     "evalue": "name 'cd' is not defined",
     "output_type": "error",
     "traceback": [
      "\u001b[0;31m---------------------------------------------------------------------------\u001b[0m",
      "\u001b[0;31mNameError\u001b[0m                                 Traceback (most recent call last)",
      "\u001b[1;32m/home/fabiano/Research/git/FScripts/test_wrtool.ipynb Cell 3\u001b[0m in \u001b[0;36m<cell line: 1>\u001b[0;34m()\u001b[0m\n\u001b[0;32m----> <a href='vscode-notebook-cell://ssh-remote%2Bhobbes.bo.isac.cnr.it/home/fabiano/Research/git/FScripts/test_wrtool.ipynb#W2sdnNjb2RlLXJlbW90ZQ%3D%3D?line=0'>1</a>\u001b[0m resu \u001b[39m=\u001b[39m cd\u001b[39m.\u001b[39mWRtool_from_file(erafi, \u001b[39m'\u001b[39m\u001b[39mNDJFM\u001b[39m\u001b[39m'\u001b[39m, \u001b[39m'\u001b[39m\u001b[39mEAT\u001b[39m\u001b[39m'\u001b[39m, sel_yr_range\u001b[39m=\u001b[39m(\u001b[39m1964\u001b[39m,\u001b[39m2014\u001b[39m), detrend_only_global \u001b[39m=\u001b[39m \u001b[39mTrue\u001b[39;00m, area_dtr \u001b[39m=\u001b[39m \u001b[39m'\u001b[39m\u001b[39mNML\u001b[39m\u001b[39m'\u001b[39m, deg_dtr \u001b[39m=\u001b[39m \u001b[39m1\u001b[39m, wnd_days \u001b[39m=\u001b[39m \u001b[39m20\u001b[39m, heavy_output \u001b[39m=\u001b[39m \u001b[39mTrue\u001b[39;00m)\n",
      "\u001b[0;31mNameError\u001b[0m: name 'cd' is not defined"
     ]
    }
   ],
   "source": [
    "resu = cd.WRtool_from_file(erafi, 'NDJFM', 'EAT', sel_yr_range=(1964,2014), detrend_only_global = True, area_dtr = 'NML', deg_dtr = 1, wnd_days = 20, heavy_output = True)"
   ]
  },
  {
   "cell_type": "code",
   "execution_count": 3,
   "metadata": {},
   "outputs": [],
   "source": [
    "resfil = '/data-hobbes/fabiano/WR_CMIP6/ERA_ref_r25_v4/out_ERA_NDJFM_EAT_4clus_4pcs_1964-2014_dtr.p'"
   ]
  },
  {
   "cell_type": "code",
   "execution_count": 4,
   "metadata": {},
   "outputs": [],
   "source": [
    "res = ctl.load_wrtool(resfil)"
   ]
  },
  {
   "cell_type": "code",
   "execution_count": 6,
   "metadata": {},
   "outputs": [
    {
     "data": {
      "text/plain": [
       "array([31.70860927, 25.17880795, 23.01986755, 20.09271523])"
      ]
     },
     "execution_count": 6,
     "metadata": {},
     "output_type": "execute_result"
    }
   ],
   "source": [
    "res['freq_clus']"
   ]
  },
  {
   "cell_type": "code",
   "execution_count": null,
   "metadata": {},
   "outputs": [],
   "source": []
  }
 ],
 "metadata": {
  "kernelspec": {
   "display_name": "ctl4",
   "language": "python",
   "name": "python3"
  },
  "language_info": {
   "codemirror_mode": {
    "name": "ipython",
    "version": 3
   },
   "file_extension": ".py",
   "mimetype": "text/x-python",
   "name": "python",
   "nbconvert_exporter": "python",
   "pygments_lexer": "ipython3",
   "version": "3.9.10"
  },
  "orig_nbformat": 4,
  "vscode": {
   "interpreter": {
    "hash": "bb2cd65413096ed3245205bb7c88a62ea343bee06c208ff99c1b82009bf63755"
   }
  }
 },
 "nbformat": 4,
 "nbformat_minor": 2
}
