{
 "cells": [
  {
   "cell_type": "code",
   "execution_count": 2,
   "metadata": {},
   "outputs": [],
   "source": [
    "import numpy as np\n",
    "from matplotlib import pyplot as plt"
   ]
  },
  {
   "cell_type": "code",
   "execution_count": 3,
   "metadata": {},
   "outputs": [],
   "source": [
    "def inst_forcing(C = None, N = None, M = None, C0 = 284., N0 = 273., M0 = 808.): \n",
    "    \"\"\"\n",
    "    Calculates the radiative forcing of CO2, N2O and CH4 according to Etminam et al., 2016.\n",
    "    \n",
    "    C = co2 in ppm, N = n2o in ppb, M = ch4 in ppb\n",
    "    \"\"\"\n",
    "\n",
    "    if C is None: C = C0\n",
    "    if N is None: N = N0\n",
    "    if M is None: M = M0\n",
    "\n",
    "    a1 = -2.4e-7\n",
    "    b1 = 7.2e-4\n",
    "    c1 = -2.1e-4\n",
    "\n",
    "    a2 = -8.0e-6\n",
    "    b2 = 4.2e-6\n",
    "    c2 = -4.9e-6\n",
    "\n",
    "    a3 = -1.3e-6\n",
    "    b3 = -8.2e-6\n",
    "\n",
    "    F_co2 = (a1 * (C-C0)**2 + b1 * abs(C-C0) + c1*0.5*(N+N0) + 5.36) * np.log(C/C0)\n",
    "\n",
    "    F_n2o = (a2*(C+C0)/2 + b2 * (N+N0)/2 + c2 * (M+M0)/2 + 0.117) * (np.sqrt(N)-np.sqrt(N0))\n",
    "\n",
    "    F_ch4 = (a3*(M+M0)/2 + b3 * (N+N0)/2 + 0.043) * (np.sqrt(M)-np.sqrt(M0))\n",
    "\n",
    "    return F_co2+F_n2o+F_ch4, F_co2, F_n2o, F_ch4\n"
   ]
  },
  {
   "cell_type": "code",
   "execution_count": 4,
   "metadata": {},
   "outputs": [],
   "source": [
    "bott_vals = np.array([\n",
    "    [284, 354, 432, 563, 691, 864, 1135],\n",
    "    [273, 309, 336, 358, 370, 380, 392],\n",
    "    [808, 1717, 1954, 2446, 2651, 2652, 2415]\n",
    "]).T"
   ]
  },
  {
   "cell_type": "code",
   "execution_count": 5,
   "metadata": {},
   "outputs": [
    {
     "name": "stdout",
     "output_type": "stream",
     "text": [
      "0.0\n",
      "1.8009770539914227\n",
      "3.071080258136722\n",
      "4.809206138276391\n",
      "6.097620739943365\n",
      "7.453322621206508\n",
      "9.071545125162451\n"
     ]
    }
   ],
   "source": [
    "forcs = []\n",
    "forcs_co2 = []\n",
    "for bo in bott_vals:\n",
    "    fo = inst_forcing(*bo)\n",
    "    print(fo[0])\n",
    "    forcs.append(fo[0])\n",
    "    forcs_co2.append(fo[1])"
   ]
  },
  {
   "cell_type": "code",
   "execution_count": 10,
   "metadata": {},
   "outputs": [],
   "source": [
    "forcs = np.array(forcs)\n",
    "forcs_co2 = np.array(forcs_co2)"
   ]
  },
  {
   "cell_type": "code",
   "execution_count": 6,
   "metadata": {},
   "outputs": [
    {
     "data": {
      "image/png": "[encoded data removed]",
      "text/plain": [
       "<Figure size 432x288 with 1 Axes>"
      ]
     },
     "metadata": {
      "needs_background": "light"
     },
     "output_type": "display_data"
    }
   ],
   "source": [
    "%matplotlib inline\n",
    "\n",
    "plt.scatter(np.arange(len(forcs)), forcs/forcs[-1], marker = 'x')\n",
    "plt.scatter(np.arange(len(forcs)), forcs_co2/forcs[-1], marker = 'x', color = 'orange')\n",
    "plt.grid()"
   ]
  },
  {
   "cell_type": "code",
   "execution_count": 7,
   "metadata": {},
   "outputs": [
    {
     "data": {
      "text/plain": [
       "<matplotlib.collections.PathCollection at 0x7f1fca060c70>"
      ]
     },
     "execution_count": 7,
     "metadata": {},
     "output_type": "execute_result"
    },
    {
     "data": {
      "image/png": "[encoded data removed]",
      "text/plain": [
       "<Figure size 432x288 with 1 Axes>"
      ]
     },
     "metadata": {
      "needs_background": "light"
     },
     "output_type": "display_data"
    }
   ],
   "source": [
    "aers = np.array([0] + 6*[-1.])\n",
    "aers2 = np.array([0] + [-1.5, -1., -1., -1.5, -2., -1.5])\n",
    "\n",
    "plt.scatter(np.arange(len(forcs)), forcs, marker = 'o', s = 5)\n",
    "plt.scatter(np.arange(len(forcs)), forcs+aers, marker = 'x', color = 'orange')\n",
    "plt.scatter(np.arange(len(forcs)), forcs+aers2, marker = 'x', color = 'red')"
   ]
  },
  {
   "cell_type": "code",
   "execution_count": 11,
   "metadata": {},
   "outputs": [],
   "source": [
    "delta_T = np.array([1.4, 2.9, 4.9, 6.6, 8.1, 9.6])\n",
    "N_fin = np.array([0.14, 0.23, 0.22, 0.33, 0.25, 0.33])\n",
    "\n",
    "lamb0 = -(forcs[1:] - N_fin)/delta_T\n",
    "lamb05 = -(forcs[1:] - 0.5 - N_fin)/delta_T\n",
    "lamb1 = -(forcs[1:] - 1. - N_fin)/delta_T\n",
    "lamb2 = -(forcs[1:] - 1.5 - N_fin)/delta_T"
   ]
  },
  {
   "cell_type": "code",
   "execution_count": 12,
   "metadata": {},
   "outputs": [
    {
     "data": {
      "image/png": "[encoded data removed]",
      "text/plain": [
       "<Figure size 576x432 with 1 Axes>"
      ]
     },
     "metadata": {
      "needs_background": "light"
     },
     "output_type": "display_data"
    }
   ],
   "source": [
    "cart = '/home/fabiano/Research/lavori/BOTTINO/nonlin_evol_1000/'\n",
    "\n",
    "fig, ax = plt.subplots(figsize = (8,6))\n",
    "\n",
    "ax.scatter(range(6), lamb0, marker = 'x', color = 'black', label = r'$F_{aer} = 0$')\n",
    "ax.scatter(range(6), lamb05, marker = 'x', color = 'green', label = r'$F_{aer} =  -0.5\\, W/m^2$')\n",
    "ax.scatter(range(6), lamb1, marker = 'x', color = 'orange', label = r'$F_{aer} = -1\\, W/m^2$')\n",
    "ax.scatter(range(6), lamb2, marker = 'x', color = 'red', label = r'$F_{aer} = -1.5\\, W/m^2$')\n",
    "ax.legend()\n",
    "\n",
    "ax.set_xticks(np.arange(6))\n",
    "ax.set_xticklabels(['b990', 'b025', 'b050', 'b065', 'b080', 'b100'])\n",
    "ax.grid(axis = 'y')\n",
    "ax.set_ylim([None, 0.])\n",
    "\n",
    "ax.set_ylabel(r'Feedback parameter $W/m^2/K$')\n",
    "\n",
    "fig.savefig(cart + 'feedback_w_aerforc.pdf')\n"
   ]
  },
  {
   "cell_type": "code",
   "execution_count": null,
   "metadata": {},
   "outputs": [
    {
     "data": {
      "text/plain": [
       "1.3636363636363635"
      ]
     },
     "execution_count": 62,
     "metadata": {},
     "output_type": "execute_result"
    }
   ],
   "source": [
    "0.3/0.22"
   ]
  },
  {
   "cell_type": "markdown",
   "metadata": {},
   "source": [
    "### Notes su aerosol ERF\n",
    "\n",
    "- Fiedler sottostima aer ERF rispetto a AR6 (-0.5 contro -1)\n",
    "- Da Fiedler, l'aer $\\tau$ sale da 0.022 circa nel 2000 a 0.03 nel 2060-70 e poi riscende sotto 0.02 nel 2100.\n",
    "- Quindi sarebbe circa -1.3 wm2 nel 2060, e un po' sotto 1 nel 2100"
   ]
  },
  {
   "cell_type": "markdown",
   "metadata": {},
   "source": []
  },
  {
   "cell_type": "code",
   "execution_count": 13,
   "metadata": {},
   "outputs": [],
   "source": [
    "def lamb(F_ghg, F_aer, l1, l2):\n",
    "    deltaT = -F_ghg/l1 -F_aer/l2\n",
    "    return -(F_ghg + F_aer)/deltaT"
   ]
  },
  {
   "cell_type": "code",
   "execution_count": 31,
   "metadata": {},
   "outputs": [
    {
     "data": {
      "text/plain": [
       "-0.3462897526501767"
      ]
     },
     "execution_count": 31,
     "metadata": {},
     "output_type": "execute_result"
    }
   ],
   "source": [
    "lamb(1.8, -1.1, -0.7, -2)"
   ]
  },
  {
   "cell_type": "code",
   "execution_count": null,
   "metadata": {},
   "outputs": [],
   "source": []
  }
 ],
 "metadata": {
  "kernelspec": {
   "display_name": "ctl4",
   "language": "python",
   "name": "python3"
  },
  "language_info": {
   "codemirror_mode": {
    "name": "ipython",
    "version": 3
   },
   "file_extension": ".py",
   "mimetype": "text/x-python",
   "name": "python",
   "nbconvert_exporter": "python",
   "pygments_lexer": "ipython3",
   "version": "3.9.10"
  }
 },
 "nbformat": 4,
 "nbformat_minor": 2
}
