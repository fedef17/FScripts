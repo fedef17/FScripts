{
 "cells": [
  {
   "cell_type": "code",
   "execution_count": null,
   "metadata": {},
   "outputs": [],
   "source": [
    "# prova prova test iafjoiajfaofa aifasjpfjsapfjopasofjasp\n",
    "ajofjaos\n",
    "asfaa\n",
    "\n",
    "\n",
    "\n",
    "oasfoas \n",
    "\n",
    "sfa\n",
    "a\n",
    "lfsa ma\n",
    "\n",
    "\n"
   ]
  }
 ],
 "metadata": {
  "language_info": {
   "name": "python"
  }
 },
 "nbformat": 4,
 "nbformat_minor": 2
}
